{
 "cells": [
  {
   "cell_type": "markdown",
   "id": "1e962fa0-d24d-4e13-a75b-8642fcc18dbc",
   "metadata": {},
   "source": [
    "В ячейке ниже представлен код генерирующий DataFrame, которая состоит всего из 1 столбца. Ваша задача перевести его в one hot вид. Сможете ли вы это сделать без get_dummies?"
   ]
  },
  {
   "cell_type": "markdown",
   "id": "a021c458-f3ca-43f2-a461-93b3dc9dc52e",
   "metadata": {},
   "source": [
    "## Для справки\n",
    "DataFrame - структура данных в pandas, аналог таблицы,\n",
    "где строки - записи, наблюдения; столбцы - признаки или характеристики этих наблюдений\n",
    "one_hot encоding - это способ преобразования данных в числовой формат.\n",
    "Каждый элемент категории преобразуется в столбец и если запись соответствует, то присваивается 1, если нет - 0.\n",
    "get_dummies - это автоматическая функция в пандас для перевода в one_hot вид"
   ]
  },
  {
   "cell_type": "markdown",
   "id": "38446415-c0d6-4afc-8f1b-b020f4548ef3",
   "metadata": {},
   "source": [
    "### ДАНО:\n",
    "import random\n",
    "lst = ['robot'] * 10\n",
    "lst += ['human'] * 10\n",
    "random.shuffle(lst)\n",
    "data = pd.DataFrame({'whoAmI':lst})\n",
    "data.head()"
   ]
  },
  {
   "cell_type": "code",
   "execution_count": 19,
   "id": "d1f4b052-8cac-4f0b-877a-b3d6eb5cafcb",
   "metadata": {},
   "outputs": [
    {
     "name": "stdout",
     "output_type": "stream",
     "text": [
      "Было:\n",
      "  whoAmI\n",
      "0  robot\n",
      "1  robot\n",
      "2  robot\n",
      "3  robot\n",
      "4  robot\n",
      "Стало:\n",
      "   robot  human\n",
      "0      1      0\n",
      "1      1      0\n",
      "2      1      0\n",
      "3      1      0\n",
      "4      1      0\n"
     ]
    }
   ],
   "source": [
    "import pandas as pd\n",
    "import random\n",
    "# Создаем список, перемешиваем и создаем DataFrame с одним столбцом whoAmI\n",
    "lst = ['robot']*10\n",
    "lst += ['human']*10\n",
    "random.shuffle(lst) # случайное перемпшивание элементов в списке\n",
    "data = pd.DataFrame({'whoAmI': lst})\n",
    "# Выводим созданный DataFrame                  \n",
    "print(\"Было:\")\n",
    "print(data.head())\n",
    "\n",
    "one_hot = pd.DataFrame()\n",
    "\n",
    "unique_values = data['whoAmI'].unique() # если значение whoAmI совпадает с название столбца, то в ячейке присваивается 1, если нет, то - 0\n",
    "for value in unique_values:\n",
    "    one_hot[value] = (data['whoAmI'] == value).astype(int)\n",
    "# Выводим DataFrame в виде one_hot\n",
    "print(\"Стало:\")\n",
    "print(one_hot.head())"
   ]
  },
  {
   "cell_type": "code",
   "execution_count": null,
   "id": "bad3f2b8-b0c2-40ea-904f-ff7c782678ed",
   "metadata": {},
   "outputs": [],
   "source": []
  }
 ],
 "metadata": {
  "kernelspec": {
   "display_name": "Python 3 (ipykernel)",
   "language": "python",
   "name": "python3"
  },
  "language_info": {
   "codemirror_mode": {
    "name": "ipython",
    "version": 3
   },
   "file_extension": ".py",
   "mimetype": "text/x-python",
   "name": "python",
   "nbconvert_exporter": "python",
   "pygments_lexer": "ipython3",
   "version": "3.12.2"
  }
 },
 "nbformat": 4,
 "nbformat_minor": 5
}
